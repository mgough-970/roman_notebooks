{
 "cells": [
  {
   "cell_type": "markdown",
   "id": "009cb37f-c5ce-4ab0-8ff5-822820c2f8dc",
   "metadata": {
    "slideshow": {
     "slide_type": "slide"
    }
   },
   "source": [
    "# STPSF Tutorial"
   ]
  },
  {
   "cell_type": "markdown",
   "id": "0bf47fa8-811c-4a39-8d1a-768ead56aec7",
   "metadata": {
    "slideshow": {
     "slide_type": "skip"
    }
   },
   "source": [
    "***"
   ]
  },
  {
   "cell_type": "markdown",
   "id": "2c742062-e38a-44d9-ba8e-d9f8e1da59f5",
   "metadata": {
    "slideshow": {
     "slide_type": "slide"
    }
   },
   "source": [
    "## Kernel Information and Read-Only Status\n",
    "\n",
    "To run this notebook, please select the \"Roman Calibration\" kernel at the top right of your window.\n",
    "\n",
    "This notebook is read-only. You can run cells and make edits, but you must save changes to a different location. We recommend saving the notebook within your home directory, or to a new folder within your home (e.g. <span style=\"font-variant:small-caps;\">file > save notebook as > my-nbs/nb.ipynb</span>). Note that a directory must exist before you attempt to add a notebook to it.\n",
    "\n",
    "## Introduction\n",
    "\n",
    "STPSF is a realistic point spread function (PSF) simulator developed by STScI that supports both Roman and the James Webb Space Telescope. For Roman's Wide Field Imager (WFI), it uses the NASA Goddard Space Flight Center's latest optical models, including field-dependent aberrations across the WFI focal plane. There is also an experimental module for Roman's Coronagraph Instrument. For more information on the tool, please visit the [RDox pages on STPSF for Roman](https://roman-docs.stsci.edu/simulation-tools-handbook-home/stpsf-for-roman).\n",
    "\n",
    "**Note:** STPSF was formerly called WebbPSF. For more information, see [Transitioning from WebbPSF to STPSF](https://stpsf.readthedocs.io/en/latest/webbpsf_to_stpsf.html).\n",
    "\n",
    "This tutorial provides an introduction to simulating Roman WFI PSFs and computing standard PSF properties like full width at half maximum (FWHM) and encircled energy (EE)."
   ]
  },
  {
   "cell_type": "markdown",
   "id": "a042726f-3f6e-4c5e-afb8-61ce94203c46",
   "metadata": {
    "slideshow": {
     "slide_type": "slide"
    }
   },
   "source": [
    "## Imports\n",
    "\n",
    "- *matplotlib* for plotting data\n",
    "- *astropy.units* for unit manipulation\n",
    "- *stpsf* for simulating Roman WFI PSFs\n",
    "- *numpy* for array calculations"
   ]
  },
  {
   "cell_type": "code",
   "execution_count": null,
   "id": "9b5fe555-9fd7-424a-bd8d-4464b33913a0",
   "metadata": {
    "slideshow": {
     "slide_type": "fragment"
    }
   },
   "outputs": [],
   "source": [
    "%matplotlib inline\n",
    "from matplotlib import pyplot as plt, rcParams\n",
    "from matplotlib.colors import LogNorm\n",
    "from astropy import units as u\n",
    "import numpy as np\n",
    "import stpsf"
   ]
  },
  {
   "cell_type": "markdown",
   "id": "8d611320-085b-4683-be9f-88cd62c417a5",
   "metadata": {},
   "source": [
    "We also edit `matplotlib`'s interpolation setting to prevent any smoothing of pixel edges."
   ]
  },
  {
   "cell_type": "code",
   "execution_count": null,
   "id": "19ee728d-1620-4156-916c-b504800d8e8f",
   "metadata": {},
   "outputs": [],
   "source": [
    "rcParams['image.interpolation'] = 'nearest'"
   ]
  },
  {
   "cell_type": "markdown",
   "id": "4a6ea601-e8b5-4857-a498-46add036bef9",
   "metadata": {},
   "source": [
    "***"
   ]
  },
  {
   "cell_type": "markdown",
   "id": "88af2135-586b-4dea-97a0-b4737e3b6239",
   "metadata": {},
   "source": [
    "## Examples"
   ]
  },
  {
   "cell_type": "markdown",
   "id": "cf9456f2-7b1f-4c9d-a425-b5c2d8e46f07",
   "metadata": {},
   "source": [
    "### Quick PSF generation"
   ]
  },
  {
   "cell_type": "markdown",
   "id": "95a4df88-c21c-49a1-9ed1-e688659aaca7",
   "metadata": {},
   "source": [
    "#### Default parameters\n",
    "\n",
    "After selecting the proper instrument (Roman WFI), generating a PSF can be as short as a single line. In the cell below, we will use the `.calc_psf()` method to compute a WFI PSF using mostly default settings. The one argument we will change is to specify `nlambda=1`, which will create a monochromatic PSF evaluated at the average wavelength of the minimum and maximum of the bandpass (in this case, the default bandpass is F062). The minimum and maximum wavelengths of the bandpass are defined as 10% of the throughput. A polychromatic PSF may be simulated by setting `nlambda` > 1, which will sample that number of wavelengths evenly spaced throughout the bandpass."
   ]
  },
  {
   "cell_type": "code",
   "execution_count": null,
   "id": "cb52176e-b3eb-464a-a688-09091807aabe",
   "metadata": {},
   "outputs": [],
   "source": [
    "wfi = stpsf.roman.WFI()\n",
    "plt.figure(figsize=(6, 8))\n",
    "default_psf = wfi.calc_psf(display=True, nlambda=1)"
   ]
  },
  {
   "cell_type": "markdown",
   "id": "c991c6d5-e91e-4066-85d9-46e2660d77ec",
   "metadata": {},
   "source": [
    "As you can see above, the calculation was performed at one wavelength (0.6225 microns). Suppose we want to make a monochromatic PSF at some other wavelength, we can do that using the `monochromatic` argument, which should be set to the desired wavelength in units of meters. For example, we can use the pivot wavelength of the bandpass:"
   ]
  },
  {
   "cell_type": "code",
   "execution_count": null,
   "id": "2de8a2c5-1016-447e-adbb-4bf6df453337",
   "metadata": {},
   "outputs": [],
   "source": [
    "plt.figure(figsize=(6, 8))\n",
    "wfi_f062 = stpsf.roman.WFI()._get_synphot_bandpass('F062')\n",
    "pivot_f062 = wfi_f062.pivot().to(u.meter).value\n",
    "default_psf = wfi.calc_psf(display=True, monochromatic=pivot_f062)"
   ]
  },
  {
   "cell_type": "markdown",
   "id": "b2cb8df4-e85c-4625-9b96-6ea944b45426",
   "metadata": {},
   "source": [
    "The resulting object (in this case, the variable `default_psf`) contains a list of four FITS extensions containing idealized PSF images. `OVERSAMP` splits the detector's original number of pixels by the oversampling factor specified upon creation of the PSFs (by default, 4) while `DET_SAMP` retains the native pixel sampling. Similarly, the `OVERDIST` and `DET_DIST` extensions represent the oversampled and native pixel sampling with distortion applied. "
   ]
  },
  {
   "cell_type": "code",
   "execution_count": null,
   "id": "7cedc980-3dd7-4963-a7bb-0fcfda19f6b5",
   "metadata": {},
   "outputs": [],
   "source": [
    "default_psf.info()"
   ]
  },
  {
   "cell_type": "markdown",
   "id": "1d5258f4-7dba-4809-a810-c7af013ad41d",
   "metadata": {},
   "source": [
    "The package includes a helper function for visualizing each extension of an existing PSF. For example, if we want to examine the oversampled PSF from the simulation we generated above:"
   ]
  },
  {
   "cell_type": "code",
   "execution_count": null,
   "id": "f048132b-ad65-4902-bac8-dff62881aab9",
   "metadata": {},
   "outputs": [],
   "source": [
    "stpsf.display_psf(default_psf, ext='OVERSAMP')"
   ]
  },
  {
   "cell_type": "markdown",
   "id": "da4aae41-37f7-4c70-acff-e4fdfb08f3e1",
   "metadata": {},
   "source": [
    "We can use any of the extensions in the `default_psf` variable that we created in the plotting routine demonstrated above. The PSF object also contains a method (`.writeto()`) for saving the PSF model to disk:"
   ]
  },
  {
   "cell_type": "code",
   "execution_count": null,
   "id": "6e686499-d5b4-4757-92e9-f0e765afc04d",
   "metadata": {},
   "outputs": [],
   "source": [
    "default_psf.writeto('default_PSF.fits', overwrite=True)"
   ]
  },
  {
   "cell_type": "markdown",
   "id": "ce925bd6-f752-4bf5-9f95-58f22b46d6d7",
   "metadata": {},
   "source": [
    "#### Custom parameters\n",
    "\n",
    "You can simulate custom PSFs by modifying instrument class attributes like the detector, filter, and others. All available attributes are described in the STPSF API documentation for the [Roman WFI class](https://stpsf.readthedocs.io/en/latest/api/stpsf.WFI.html#stpsf.WFI) and its parent [SpaceTelescopeInstrument class](https://stpsf.readthedocs.io/en/latest/api/stpsf.SpaceTelescopeInstrument.html#stpsf.SpaceTelescopeInstrument).) Let's first get a list of the available optical elements:"
   ]
  },
  {
   "cell_type": "code",
   "execution_count": null,
   "id": "d718b95e-6637-4361-840c-e5336bd435b3",
   "metadata": {},
   "outputs": [],
   "source": [
    "wfi.filter_list"
   ]
  },
  {
   "cell_type": "markdown",
   "id": "154352da-90cd-451a-8fca-60497320b76a",
   "metadata": {},
   "source": [
    "While the imaging filters have names that start with \"F\" (e.g., F158), the prism has the allcaps name \"PRISM\" and the grism has two options: \"GRISM0\" and \"GRISM1\", which correspond to the zeroth and first orders, respectively. For more information on the WFI optical elements, see the [WFI Optical Elements](https://roman-docs.stsci.edu/roman-instruments-home/wfi-imaging-mode-user-guide/wfi-design/wfi-optical-elements) article on RDox.\n",
    "\n",
    "Next, let's simulate the PSF of the first-order grism spectrum. For this simulation, we will select the detector WFI14 and a position on the detector of (x, y) = (1024, 1024) in science coordinates. The detector names in STPSF are in the format SCAXX rather than WFIXX, so we will specify this as SCA14.\n",
    "\n",
    "**Note:** The following cell is commented out as it takes a very long time to run. To run it, simply uncomment the lines and run the cell, and you may want to find something else to do while it runs."
   ]
  },
  {
   "cell_type": "code",
   "execution_count": null,
   "id": "cb92168f-4964-4632-960a-2188fe379938",
   "metadata": {},
   "outputs": [],
   "source": [
    "wfi.filter = 'GRISM1'\n",
    "wfi.detector = 'SCA14'\n",
    "wfi.detector_position = (1024, 1024)\n",
    "\n",
    "plt.figure(figsize=(6, 8)) \n",
    "custom_psf = wfi.calc_psf(display=True, monochromatic=1.2e-6)"
   ]
  },
  {
   "cell_type": "markdown",
   "id": "cbacace1-589d-4a65-98cf-610f040b5276",
   "metadata": {},
   "source": [
    "### PSF profile and encircled energy"
   ]
  },
  {
   "cell_type": "markdown",
   "id": "30824e3e-21cb-4150-851b-e8f4b2935ee4",
   "metadata": {},
   "source": [
    "Once you've simulated a PSF, STPSF offers a method that measures its profile, FWHM, and encircled energy. Let's create a source spectrum of a star with spectral type G0V using the PHOENIX model library. Then, we will compute a polychromatic PSF in ten wavelength bins (given by the optional argument `nlambda`)."
   ]
  },
  {
   "cell_type": "code",
   "execution_count": null,
   "id": "b30dace1-aa74-4194-913f-55ec3d11d47f",
   "metadata": {},
   "outputs": [],
   "source": [
    "src = stpsf.specFromSpectralType('G0V', catalog='phoenix')\n",
    "poly_psf = wfi.calc_psf(source=src, nlambda=10, display=False)\n",
    "\n",
    "plt.figure(figsize=(8, 6))\n",
    "stpsf.display_profiles(poly_psf)"
   ]
  },
  {
   "cell_type": "markdown",
   "id": "e0e9bedc-7f2e-49c6-9f08-4ed6683e66a7",
   "metadata": {},
   "source": [
    "### Bulk PSF generation"
   ]
  },
  {
   "cell_type": "markdown",
   "id": "b92bc0dd-87a3-445b-9edc-f43d5e715f33",
   "metadata": {},
   "source": [
    "To generate several individual PSFs in a grid, STPSF implements the `GriddedPSFModel` class from `photutils`. (Learn more about this use case in the [STPSF documentation](https://stpsf.readthedocs.io/en/latest/psf_grids.html).)\n",
    "\n",
    "As a toy example, below we generate a 3x3 grid of PSFs for a single WFI detector."
   ]
  },
  {
   "cell_type": "code",
   "execution_count": null,
   "id": "55ef3e4e-560d-4146-85ce-6359ad136995",
   "metadata": {
    "scrolled": true
   },
   "outputs": [],
   "source": [
    "wfi.detector = \"SCA07\"\n",
    "wfi.filter = \"F158\"\n",
    "wfi_grid = wfi.psf_grid(num_psfs=9, all_detectors=False)"
   ]
  },
  {
   "cell_type": "markdown",
   "id": "732f284d-6c57-449c-a206-eab8fb728c9a",
   "metadata": {},
   "source": [
    "First, let's use the `plot_grid()` method to display the PSF grid:"
   ]
  },
  {
   "cell_type": "code",
   "execution_count": null,
   "id": "c6f28e0c-a9ba-4112-ad70-210447b06d14",
   "metadata": {},
   "outputs": [],
   "source": [
    "plot = wfi_grid.plot_grid()"
   ]
  },
  {
   "cell_type": "markdown",
   "id": "0e7c9464-c346-461c-9c27-470d3e9d6371",
   "metadata": {},
   "source": [
    "Next let's look at the delta plot, which subtracts the mean from each PSF to show the variation across the detector:"
   ]
  },
  {
   "cell_type": "code",
   "execution_count": null,
   "id": "95060be4-69bf-442a-b841-1e59784c5902",
   "metadata": {},
   "outputs": [],
   "source": [
    "diffs = wfi_grid.plot_grid(deltas=True)"
   ]
  },
  {
   "cell_type": "markdown",
   "id": "c50f66b3-8c7f-4227-a27e-ba1e2109cd44",
   "metadata": {},
   "source": [
    "With a PSF grid in hand, you can use a package like `photutils` to estimate PSFs at any given detector position by interpolation without the need to calculate each PSF individually. This is a major time-saver in source-heavy scientific use cases. We do this by using the `evaluate()` method to determine the flux of any pixel relative to a PSF at any location. In the cell below, we will evaluate the flux per pixel around a PSF at position (X, Y) = (1000, 2000). We make a pixel grid around that position with 50 pixels on a side. We then pass each pixel position into the evaluate function and display the values that are returned for each pixel position. We have chosen to set the integrated flux of the PSF to a value of 1 in arbitrary units, which can then be conveniently scaled to the desired flux in other applications."
   ]
  },
  {
   "cell_type": "code",
   "execution_count": null,
   "id": "a13142c7-0d7d-4d7f-979d-41b9fbd23001",
   "metadata": {},
   "outputs": [],
   "source": [
    "size = 50  # pixels on a side\n",
    "x0 = 1000\n",
    "y0 = 2000\n",
    "x, y = np.mgrid[x0-size//2:x0+size//2, y0-size//2:y0+size//2]  # grid of pixel positions around PSF center\n",
    "\n",
    "# Evaluate the PSF\n",
    "psf = wfi_grid.evaluate(x=x, y=y, flux=1, x_0=x0, y_0=y0)\n",
    "\n",
    "# Display the PSF\n",
    "plt.imshow(psf, norm=LogNorm(vmax=0.05, vmin=1e-5), origin='lower')"
   ]
  },
  {
   "cell_type": "markdown",
   "id": "70ca0e4c-f605-40e5-be34-053ff5643297",
   "metadata": {},
   "source": [
    "## Additional Resources\n",
    "\n",
    "- The Roman User Documentation's [\"STPSF Overview\"](https://roman-docs.stsci.edu/simulation-tools-handbook-home/stpsf-for-roman/overview-of-stpsf) page.\n",
    "- The latest version of the [STPSF documentation](https://stpsf.readthedocs.io/en/stable/index.html) on ReadTheDocs, which includes a specific page on the package's [Roman instrument model](https://stpsf.readthedocs.io/en/stable/roman.html).\n",
    "- The [Roman Help Desk](https://romanhelp.stsci.edu), an official outlet for user questions about STPSF."
   ]
  },
  {
   "cell_type": "markdown",
   "id": "497f1db5-297a-4ac4-8cfc-b989dd10683a",
   "metadata": {
    "slideshow": {
     "slide_type": "slide"
    }
   },
   "source": [
    "## About this Notebook\n",
    "\n",
    "**Authors:** Justin Otor, Eunkyu Han, Tyler Desjardins, Charles-Philippe Lajoie\\\n",
    "**Updated On:** 2025-05-26"
   ]
  },
  {
   "cell_type": "markdown",
   "id": "4d1c7c95-0eee-46d3-8e2a-0cf4f7e3dd40",
   "metadata": {},
   "source": [
    "***"
   ]
  },
  {
   "cell_type": "markdown",
   "id": "73de59d5-7c55-4db1-b965-0c1e60ab58c4",
   "metadata": {},
   "source": [
    "[Top of Page](#top)\n",
    "<img style=\"float: right;\" src=\"https://raw.githubusercontent.com/spacetelescope/notebooks/master/assets/stsci_pri_combo_mark_horizonal_white_bkgd.png\" alt=\"Space Telescope Logo\" width=\"200px\"/> "
   ]
  }
 ],
 "metadata": {
  "kernelspec": {
   "display_name": "Roman Calibration",
   "language": "python",
   "name": "roman-cal"
  },
  "language_info": {
   "codemirror_mode": {
    "name": "ipython",
    "version": 3
   },
   "file_extension": ".py",
   "mimetype": "text/x-python",
   "name": "python",
   "nbconvert_exporter": "python",
   "pygments_lexer": "ipython3",
   "version": "3.12.9"
  }
 },
 "nbformat": 4,
 "nbformat_minor": 5
}
