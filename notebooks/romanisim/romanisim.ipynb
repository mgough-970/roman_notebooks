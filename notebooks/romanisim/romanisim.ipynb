{
 "cells": [
  {
   "cell_type": "markdown",
   "metadata": {
    "slideshow": {
     "slide_type": "slide"
    }
   },
   "source": [
    "# Simulating WFI Imaging Data with Roman I-Sim"
   ]
  },
  {
   "cell_type": "markdown",
   "metadata": {
    "slideshow": {
     "slide_type": "skip"
    }
   },
   "source": [
    "***"
   ]
  },
  {
   "cell_type": "markdown",
   "metadata": {
    "slideshow": {
     "slide_type": "slide"
    }
   },
   "source": [
    "## Server Information\n",
    "\n",
    "**IMPORTANT: To run this tutorial, please make sure you are logged in the RRN with a medium or large server.** Running the parallelized examples in the advanced use cases will require a large server.\n",
    "\n",
    "## Kernel Information and Read-Only Status\n",
    "\n",
    "To run this notebook, please select the \"Roman Calibration\" kernel at the top right of your window.\n",
    "\n",
    "This notebook is read-only. You can run cells and make edits, but you must save changes to a different location. We recommend saving the notebook within your home directory, or to a new folder within your home (e.g. <span style=\"font-variant:small-caps;\">file > save notebook as > my-nbs/nb.ipynb</span>). Note that a directory must exist before you attempt to add a notebook to it."
   ]
  },
  {
   "cell_type": "markdown",
   "metadata": {},
   "source": [
    "## Imports\n",
    " Libraries used\n",
    "- *argparse* for formatting input options in romanisim\n",
    "- *asdf* for opening Roman WFI ASDF files\n",
    "- *astroquery.gaia* for querying the Gaia catalog\n",
    "- *astropy.coordinates* for storing celestial coordinates as Python objects\n",
    "- *astropy.time* for storing time information as Python objects\n",
    "- *astropy.table* for working with Astropy Table objects\n",
    "- *astropy.units* for handling and combining units\n",
    "- *astropy.visualization* for image normalization\n",
    "- *copy* for making copies of Python objects\n",
    "- *galsim* for image simulations\n",
    "- *importlib* for reloading Python modules\n",
    "- *matplotlib* for displaying images\n",
    "- *numpy* for array operations\n",
    "- *os* for file operations\n",
    "- *romanisim* for image simulations\n",
    "- *roman_datamodels* for opening Roman WFI ASDF files\n",
    "- *s3fs* for accessing files in an S3 bucket\n",
    "\n",
    "In the [Advanced Use Cases](#Advanced-Use-Cases) section further below, we include some additional imports:\n",
    "- *pysiaf* for determining dither positions\n",
    "- *dataclasses* for creating a class\n",
    "- *typing* for doing type checking on inputs\n",
    "- *dask* for parallelization\n",
    "\n",
    "**Note:** `dask` is not installed in the Roman Calibration kernel by default. In the [Advanced Use Cases - Parallelized Simulations](#Parallelized-Simulations) section, the code cells have been commented out and there is a cell at the beginning of the section that will use `pip` to install the required packages."
   ]
  },
  {
   "cell_type": "code",
   "execution_count": null,
   "metadata": {
    "slideshow": {
     "slide_type": "fragment"
    }
   },
   "outputs": [],
   "source": [
    "import argparse\n",
    "import asdf\n",
    "from astroquery.gaia import Gaia\n",
    "from astropy.coordinates import SkyCoord\n",
    "from astropy.time import Time\n",
    "from astropy.table import Table, vstack\n",
    "from astropy import units as u\n",
    "from astropy.visualization import simple_norm\n",
    "import copy\n",
    "import galsim\n",
    "import importlib\n",
    "import matplotlib.pyplot as plt\n",
    "import numpy as np\n",
    "import os\n",
    "import roman_datamodels as rdm\n",
    "from romanisim import gaia, bandpass, catalog, log, wcs, persistence, parameters, ris_make_utils as ris\n",
    "from romanisim.image import inject_sources_into_l2\n",
    "import s3fs"
   ]
  },
  {
   "cell_type": "markdown",
   "metadata": {
    "slideshow": {
     "slide_type": "slide"
    }
   },
   "source": [
    "## Introduction\n",
    "\n",
    "The purpose of this notebook is to show how to generate simulated Level 1 (L1; uncalibrated ramp cubes) and Level 2 (L2; calibrated rate images) Roman Wide Field Instrument (WFI) Advanced Scientific Data Format (ASDF) files with [Roman I-Sim](https://romanisim.readthedocs.io/en/latest/) (package name `romanisim`). Details about the Roman data levels can be found in the [Data Levels and Products](https://roman-docs.stsci.edu/data-handbook-home/wfi-data-format/data-levels-and-products) article in the Roman Documentation System (RDox). Briefly, a L1 file contains a single uncalibrated ramp exposure in units of Data Numbers (DN).  L1 files are three-dimensional data cubes, one dimension for time and two dimensions for image coordinates, that are shaped as  arrays with (N resultants, 4096 image rows, 4096 image columns). A resultant is a sample up-the-ramp, and represents either a single read of the WFI detectors or multiple reads that have been combined. The L2 WFI data are calibrated images in instrumental units of DN / second.  They are two-dimensional arrays shaped as (4088 image rows, 4088 image columns)."
   ]
  },
  {
   "cell_type": "markdown",
   "metadata": {},
   "source": [
    "***"
   ]
  },
  {
   "cell_type": "markdown",
   "metadata": {
    "slideshow": {
     "slide_type": "slide"
    }
   },
   "source": [
    "## Tutorial Data\n",
    "\n",
    "In this tutorial, we will create necessary data in memory or retrieve it from a catalog service. A catalog file is also available in the RRN S3 bucket, and can be streamed into memory using `astropy.table.Table` and the `s3fs` package instructions in the [Data Discovery and Access](../data_discovery_and_access/data_discovery_and_access.ipynb) tutorial. Also see the [RRN documentation](../../../markdown/simulated-data.md) for more information on the catalog available in the S3 bucket."
   ]
  },
  {
   "cell_type": "markdown",
   "metadata": {
    "slideshow": {
     "slide_type": "slide"
    }
   },
   "source": [
    "## Source Catalog Generation\n",
    "\n",
    "The `romanisim` package offers two options for generating source catalogs:\n",
    "1. Retrieve the source catalog from Gaia; or\n",
    "2. Parametrically generate a catalog of stars and/or galaxies.\n",
    "\n",
    "First, let's explore how to create a `romanisim`-compatible source catalog using Gaia. We will use a combination of `astroquery` and `romanisim` to query the Gaia catalog and then write the file in a format compatible with `romanisim`.\n",
    "\n",
    "In the example below, we query the Gaia DR3 catalog for sources centered at (RA, Dec) = (270.94, -0.2) degrees within a radius of 1 degree.\n",
    "\n",
    "**Note:** The Gaia query may take several minutes to complete."
   ]
  },
  {
   "cell_type": "code",
   "execution_count": null,
   "metadata": {},
   "outputs": [],
   "source": [
    "ra = 270.94  # Right ascension in degrees\n",
    "dec = -0.2  # Declination in degrees\n",
    "radius = 1  # Search radius in degrees\n",
    "\n",
    "query = f'SELECT * FROM gaiadr3.gaia_source WHERE distance({ra}, {dec}, ra, dec) < {radius}'\n",
    "job = Gaia.launch_job_async(query)\n",
    "# print(job)\n",
    "result = job.get_results()"
   ]
  },
  {
   "cell_type": "markdown",
   "metadata": {},
   "source": [
    "Once we have the result from the Gaia query, we can transform it into a format compatible with Roman I-Sim:"
   ]
  },
  {
   "cell_type": "code",
   "execution_count": null,
   "metadata": {},
   "outputs": [],
   "source": [
    "# Filter the Gaia results for stars and exclude bright stars\n",
    "result = result[result['classprob_dsc_combmod_star'] >= 0.7]\n",
    "result = result[result['phot_g_mean_mag'] > 16.5]\n",
    "\n",
    "# Set the observation time\n",
    "obs_time = '2026-10-31T00:00:00'\n",
    "\n",
    "# Make the Roman I-Sim formatted catalog\n",
    "gaia_catalog = gaia.gaia2romanisimcat(result, Time(obs_time), fluxfields=set(bandpass.galsim2roman_bandpass.values()))"
   ]
  },
  {
   "cell_type": "markdown",
   "metadata": {},
   "source": [
    "We have excluded very bright stars (Gaia g-band > 16.5 mag in this example) because Roman I-Sim uses a maximum size of the simulated point spread function (PSF) in pixels that can result in the appearance of box-shaped boundaries around bright sources. This will be fixed in a future update.\n",
    "\n",
    "When using a real catalog like Gaia, it is essential to remove any entries with missing information. This can be achieved with the code in the cell below:"
   ]
  },
  {
   "cell_type": "code",
   "execution_count": null,
   "metadata": {},
   "outputs": [],
   "source": [
    "# Reject anything with missing fluxes or positions\n",
    "names = [f for f in gaia_catalog.dtype.names if f[0] == 'F']\n",
    "names += ['ra', 'dec']\n",
    "\n",
    "bad = np.zeros(len(gaia_catalog), dtype='bool')\n",
    "for b in names:\n",
    "      bad = ~np.isfinite(gaia_catalog[b])\n",
    "      if hasattr(gaia_catalog[b], 'mask'):\n",
    "           bad |= gaia_catalog[b].mask\n",
    "      gaia_catalog = gaia_catalog[~bad]"
   ]
  },
  {
   "cell_type": "markdown",
   "metadata": {},
   "source": [
    "Now that we have a catalog, let's take a look at it. The catalog in memory is an `astropy.table.Table` object with over 1e5 rows:"
   ]
  },
  {
   "cell_type": "code",
   "execution_count": null,
   "metadata": {},
   "outputs": [],
   "source": [
    "gaia_catalog"
   ]
  },
  {
   "cell_type": "markdown",
   "metadata": {},
   "source": [
    "Alternatively, we can generate a completely synthetic catalog of stars and galaxies using tools in Roman I-Sim (see parameters in the cell below). In this tutorial, we will simulate a galaxy catalog and merge it with the Gaia star catalog. This approach addresses the limitation of Gaia's catalog, which includes only relatively bright sources, by adding galaxies. At the same time, real Gaia point sources are necessary for the Roman calibration pipeline to match images to Gaia astrometry. \n",
    "\n",
    "Note that we can additionally simulate a star catalog if desired. This may be useful for including stars fainter than the Gaia magnitude limit, or when the Gaia astrometric step in RomanCal is not required.\n",
    "\n",
    "Note that in the cell below, we have commented out the last line, which would save the catalog to disk as an Enhanced Character-Separated Values (ECSV) file. We do not need the catalog to be saved on disk for this tutorial, but you may optionally uncomment the line to save the file if you wish. The same file is available in the S3 bucket for any other tutorials that may need it. Having a saved version of the catalog removes the need to re-run the Gaia query above if you need to start over, but you will need to add code to read the catalog file below."
   ]
  },
  {
   "cell_type": "code",
   "execution_count": null,
   "metadata": {},
   "outputs": [],
   "source": [
    "# Galaxy catalog parameters\n",
    "\n",
    "ra = 270.94  # Right ascension of the catalog center in degrees\n",
    "dec = -0.2  # Declination of the catalog center in degrees\n",
    "radius = 1.0  # Radius of the catalog in degrees\n",
    "n_gal = 30_000  # Number of galaxies\n",
    "faint_mag = 22  # Faint magnitude limit of simulated sources\n",
    "hlight_radius = 0.3  # Half-light radius at the faint magnitude limit in units of arcseconds\n",
    "optical_element = 'F062 F087 F106 F129 F146 F158 F184 F213'.split()  # List of optical elements to simulate\n",
    "seed = 4642  # Random number seed for reproducibility\n",
    "\n",
    "# Create galaxy catalog\n",
    "galaxy_cat = catalog.make_galaxies(SkyCoord(ra, dec, unit='deg'), n_gal, radius=radius, index=0.4, faintmag=faint_mag, \n",
    "                                   hlr_at_faintmag=hlight_radius, bandpasses=optical_element, rng=None, seed=seed)\n",
    "\n",
    "# Merge the galaxy and Gaia catalogs\n",
    "full_catalog = vstack([galaxy_cat, gaia_catalog])\n",
    "\n",
    "# full_catalog.write('full_catalog.ecsv', format='ascii.ecsv', overwrite=True)"
   ]
  },
  {
   "cell_type": "markdown",
   "metadata": {},
   "source": [
    "The following cell is commented out, but if uncommented will create a simulated star catalog."
   ]
  },
  {
   "cell_type": "code",
   "execution_count": null,
   "metadata": {},
   "outputs": [],
   "source": [
    "#n_star = 30_000  # Number of stars\n",
    "\n",
    "#star_cat = catalog.make_stars(SkyCoord(ra, dec, unit='deg'), n_star, radius=radius, index=5/3., faintmag=faint_mag, \n",
    "#                              truncation_radius=None, bandpasses=optical_element, rng=None, seed=seed)"
   ]
  },
  {
   "cell_type": "markdown",
   "metadata": {},
   "source": [
    "As before, we have commented out the line that will write this to disk, and instead have kept it in memory. Below, let's print out the catalog and take a look:"
   ]
  },
  {
   "cell_type": "code",
   "execution_count": null,
   "metadata": {},
   "outputs": [],
   "source": [
    "full_catalog"
   ]
  },
  {
   "cell_type": "markdown",
   "metadata": {},
   "source": [
    "We can see galaxies at the top of the stacked catalog (notice type == \"SER\" for Sersic and values of n (the Sersic index) are not -1, while stars have type == PSF)."
   ]
  },
  {
   "cell_type": "markdown",
   "metadata": {},
   "source": [
    "### Image Simulation\n",
    "\n",
    "Here we show how to run the actual simulation using Roman I-Sim. The method for running the simulation for both L1 and L2 data is the same, so we will show an example for L2, and give instructions of how to modify this for L1.\n",
    "\n",
    "In our example, we are simulating only a single image, so we have set the persistance to the default. Future updates may include how to simulate persistance from multiple exposures.\n",
    "\n",
    "**Notes:** \n",
    "\n",
    "- Roman I-Sim allows the user to either use reference files from CRDS or to use no reference files. The latter is not recommended.\n",
    "- Each detector is simulated separately. Below, in the [Advanced Use Cases - Parallelized Simulations](#Parallelized-Simulations) section, we include instructions on how to parallelize the simulations using Dask.\n",
    "- Currently, the simulator does not include the effect of 1/f noise.\n",
    "- Multi-accumulation (MA) tables control the total exposure time and sampling up-the-ramp. For more information, see the [MA table article](https://roman-docs.stsci.edu/raug/astronomers-proposal-tool-apt/appendix/appendix-wfi-multiaccum-tables) in the Roman APT Users Guide.\n",
    "\n",
    "In this case, we will create an observation using the detector WFI01 and the F106 optical element. The observation is simulated to occur at UTC time 2026-10-31T00:00:00 and an exposure time of approximately 60 seconds.\n",
    "\n",
    "**Note:** It will take several minutes to download the appropriate calibration reference files the first time this cell is run. Any changes to the settings below may require downloading additional files, which could increase the run time."
   ]
  },
  {
   "cell_type": "code",
   "execution_count": null,
   "metadata": {},
   "outputs": [],
   "source": [
    "obs_date = '2026-10-31T00:00:00'  # Datetime of the simulated exposure\n",
    "sca = 1  # Change this number to simulate different WFI detectors 1 - 18\n",
    "optical_element = 'F106'  # Optical element to simulate\n",
    "ma_table_number = 3  # Multi-accumulation (MA) table number...do not recommend to change this as it must match files in CRDS\n",
    "seed = 7  # Galsim random number generator seed for reproducibility\n",
    "level = 2  # WFI data level to simulate...1 or 2\n",
    "cal_level = 'cal' if level == 2 else 'uncal'  # File name extension for data calibration level\n",
    "filename = f'r0003201001001001004_0001_wfi{sca:02d}_{optical_element.lower()}_{cal_level}.asdf'  # Output file name on disk. Only change the first part up to _WFI to change the rootname of the file.\n",
    "\n",
    "# Set other arguments for use in Roman I-Sim. The code expects a specific format for these, so this is a little complicated looking.\n",
    "parser = argparse.ArgumentParser()\n",
    "parser.set_defaults(usecrds=True, stpsf=True, level=level, filename=filename, drop_extra_dq=True)\n",
    "args = parser.parse_args([])\n",
    "\n",
    "# Set reference files to None for CRDS\n",
    "for k in parameters.reference_data:\n",
    "    parameters.reference_data[k] = None\n",
    "\n",
    "# Set Galsim RNG object\n",
    "rng = galsim.UniformDeviate(seed)\n",
    "\n",
    "# Set default persistance information\n",
    "persist = persistence.Persistence()\n",
    "\n",
    "# Set metadata\n",
    "metadata = ris.set_metadata(date=obs_date, bandpass=optical_element, sca=sca, ma_table_number=ma_table_number)\n",
    "\n",
    "# Update the WCS info\n",
    "wcs.fill_in_parameters(metadata, SkyCoord(ra, dec, unit='deg', frame='icrs'), boresight=False, pa_aper=0.0)\n",
    "\n",
    "# Run the simulation\n",
    "ris.simulate_image_file(args, metadata, full_catalog, rng, persist)"
   ]
  },
  {
   "cell_type": "markdown",
   "metadata": {},
   "source": [
    "If we want to simulate an L1 ramp cube, then we can change the level variable above to 1, which will also change the output file name to `*_uncal.asdf`. The rest of the information stays the same."
   ]
  },
  {
   "cell_type": "markdown",
   "metadata": {},
   "source": [
    "## Advanced Use Cases\n",
    "\n",
    "### Dithered Observations\n",
    "\n",
    "Dithering is the process of shifting the telescope position slightly such that astronomical sources fall on different pixel positions in consecutive observations. Dithers comes in two flavors: \n",
    "- Large dithers: Used to fill the gaps between detectors and to reject pixels affected by undesirable effects\n",
    "- Sub-pixel dithers: Used for sampling the point spread function (PSF)\n",
    "\n",
    "If we want to create a set of dithered observations, we need to determine the new pointing of the WFI. Here we introduce a Python class that can take an initial right ascension, declination, and position angle of the WFI and then apply offsets to update those parameters for a new pointing. First, let's import some new packages and modules that will help, specifically:\n",
    "- *pysiaf* for WFI coordinate transformations\n",
    "- *dataclasses* for simplifying the definition of a class\n",
    "- *typing* for type hinting of inputs and outputs\n",
    "\n",
    "In this section, we show you how to determine the pointing positions necessary for dithering with the Roman WFI. In the [Advanced Use Cases - Simulating Dithered Observations in Parallel](#Simulating-Dithered-Observations-in-Parallel) section, we combine the dithering information and parallelization with Dask to show how to put this information to use."
   ]
  },
  {
   "cell_type": "code",
   "execution_count": null,
   "metadata": {},
   "outputs": [],
   "source": [
    "import pysiaf\n",
    "from dataclasses import dataclass\n",
    "from typing import Union"
   ]
  },
  {
   "cell_type": "markdown",
   "metadata": {},
   "source": [
    "Next, we create a Python class called `PointWFI` that takes three inputs: ra, dec, and roll_angle. Defining a class may be a little complicated for those who are new to Python, so don't worry too much about the details for now. Just know that this class takes your input position, creates an attitude matrix for the spacecraft using PySIAF, applies the offsets, and updates the pointing information."
   ]
  },
  {
   "cell_type": "code",
   "execution_count": null,
   "metadata": {},
   "outputs": [],
   "source": [
    "@dataclass(init=True, repr=True)\n",
    "class PointWFI:\n",
    "    \"\"\"\n",
    "    Inputs\n",
    "    ------\n",
    "    ra (float): Right ascension of the target placed at the geometric \n",
    "                center of the Wide Field Instrument (WFI) focal plane\n",
    "                array. This has units of degrees.\n",
    "    dec (float): Declination of the target placed at the geometric\n",
    "                 center of the WFI focal plane array. This has units\n",
    "                 of degrees.\n",
    "    position_angle (float): Position angle of the WFI relative to the V3 axis\n",
    "                            measured from North to East. A value of 0.0 degrees\n",
    "                            would place the WFI in the \"smiley face\" orientation\n",
    "                            (U-shaped) on the celestial sphere. To place WFI\n",
    "                            such that the position angle of the V3 axis is \n",
    "                            zero degrees, use a WFI position angle of -60 degrees.\n",
    "\n",
    "    Description\n",
    "    -----------\n",
    "    To use this class, insantiate it with your initial pointing like so:\n",
    "\n",
    "        >>> point = PointWFI(ra=30, dec=-45, position_angle=10)\n",
    "    \n",
    "    and then dither using the dither method:\n",
    "\n",
    "        >>> point.dither(x_offset=10, y_offset=140)\n",
    "\n",
    "    This would shift the WFI 10 arcseconds along the X-axis of the WFI\n",
    "    and 140 arcseconds along the Y-axis of the WFI. These axes are in the ideal\n",
    "    coordinate system of the WFI, i.e, with the WFI oriented in a U-shape with \n",
    "    +x to the right and +y up. You can pull the new pointing info out of the object \n",
    "    either as attributes or by just printing the object:\n",
    "\n",
    "        >>> print(point.ra, point.dec)\n",
    "        >>> 29.95536280064078 -44.977122003232786\n",
    "\n",
    "    or\n",
    "\n",
    "        >>> point\n",
    "        >>> PointWFI(ra=29.95536280064078, dec=-44.977122003232786, position_angle=10)\n",
    "    \"\"\"\n",
    "\n",
    "    # Set default pointing parameters\n",
    "    ra: float = 0.0\n",
    "    dec: float = 0.0\n",
    "    position_angle: float = -60.0\n",
    "\n",
    "    # Post init method sets some other defaults and initializes\n",
    "    # the attitude matrix using PySIAF.\n",
    "    def __post_init__(self) -> None:\n",
    "        self.siaf_aperture = pysiaf.Siaf('Roman')['WFI_CEN']\n",
    "        self.v2_ref = self.siaf_aperture.V2Ref\n",
    "        self.v3_ref = self.siaf_aperture.V3Ref\n",
    "        self.attitude_matrix = pysiaf.utils.rotations.attitude(self.v2_ref, self.v3_ref, self.ra,\n",
    "                                        self.dec, self.position_angle)\n",
    "        self.siaf_aperture.set_attitude_matrix(self.attitude_matrix)\n",
    "\n",
    "        # Compute the V3 position angle\n",
    "        self.tel_roll = pysiaf.utils.rotations.posangle(self.attitude_matrix, 0, 0)\n",
    "\n",
    "        # Save initial pointing\n",
    "        self.att0 = self.attitude_matrix.copy()\n",
    "\n",
    "        # Save a copy of the input RA and Dec in case someone needs it\n",
    "        self.ra0 = copy.copy(self.ra)\n",
    "        self.dec0 = copy.copy(self.dec)\n",
    "\n",
    "    def dither(self, x_offset: Union[int, float],\n",
    "               y_offset: Union[int, float]) -> None:\n",
    "        \"\"\"\n",
    "        Purpose\n",
    "        -------\n",
    "        Take in an ideal X and Y offset in arcseconds and shift the telescope\n",
    "        pointing to that position.\n",
    "\n",
    "        Inputs\n",
    "        ------\n",
    "        x_offset (float): The offset in arcseconds in the ideal X direction.\n",
    "\n",
    "        y_offset (float): The offset in arcseconds in the ideal Y direction.\n",
    "        \"\"\"\n",
    "\n",
    "        self.ra, self.dec = self.siaf_aperture.idl_to_sky(x_offset, y_offset)"
   ]
  },
  {
   "cell_type": "markdown",
   "metadata": {},
   "source": [
    "Now let's dither the WFI. We will use the BOXGAP4 dither pattern for our example. See the RDox article on [WFI Dithering](https://roman-docs.stsci.edu/roman-instruments-home/wfi-imaging-mode-user-guide/observing-with-the-wfi-in-imaging-mode/wfi-dithering) for more information. Note that the dither offsets are represented in the ideal X and Y directions (this means that +X is to the right and +Y is up when the WFI is in the U-shaped orientation with WFI07 and WFI16 in the upper-right and upper-left corners, respectively). The offsets are in units of arcseconds, and each offset represents the offset from the initial starting position. Here is the pattern:\n",
    "\n",
    "| Dither Step | Offset X (arcsec) | Offset Y (arcsec) |\n",
    "| --- | --- | --- |\n",
    "| 0 | 0.00 | 0.00 |\n",
    "| 1 | -205.20 | 0.88 |\n",
    "| 2 | -204.32 | 206.08 |\n",
    "| 3 | 0.88 | 205.20 |\n",
    "\n",
    "Now let's instantiate the `PointWFI` object with our initial pointing and move to the first dither position:"
   ]
  },
  {
   "cell_type": "code",
   "execution_count": null,
   "metadata": {},
   "outputs": [],
   "source": [
    "pointing = PointWFI(ra=270.7, dec=-0.2, position_angle=0.0)\n",
    "pointing.dither(x_offset=-205.20, y_offset=0.88)\n",
    "print(pointing)"
   ]
  },
  {
   "cell_type": "markdown",
   "metadata": {},
   "source": [
    "We can see that the WFI shifted slightly in both right ascension and declination, but not by -205.20 and +0.88 arcseconds. Remember that the WFI dither offsets are specified in a coordinate system local to the WFI, so the offsets on the sky will be different (hence the need for the class we created above). To make it easier to script our simulations, we can pull the variables out of the `pointing` object, such as below where we show how to retrieve the `.ra` attribute:"
   ]
  },
  {
   "cell_type": "code",
   "execution_count": null,
   "metadata": {},
   "outputs": [],
   "source": [
    "pointing.ra"
   ]
  },
  {
   "cell_type": "markdown",
   "metadata": {},
   "source": [
    "### Parallelized Simulations\n",
    "\n",
    "Often, we will want to run a simulation using multiple detectors rather than just one at a time. Looping over the above in a serial fashion can take quite a long time, so we want to parallelize the work. In the example below, we will show how to parallelize the procedure with `Dask`. These cells are commented out by default, so to run them you need to uncomment all of the lines. Comments in code cells are marked with two # symbols (e.g., `## Comment`), so be sure to remove only the leading single # symbol."
   ]
  },
  {
   "cell_type": "code",
   "execution_count": null,
   "metadata": {},
   "outputs": [],
   "source": [
    "!pip install dask[complete]"
   ]
  },
  {
   "cell_type": "code",
   "execution_count": null,
   "metadata": {},
   "outputs": [],
   "source": [
    "from dask.distributed import Client"
   ]
  },
  {
   "cell_type": "markdown",
   "metadata": {},
   "source": [
    "At this point, it's helpful to redefine our simulation call above as a single function:"
   ]
  },
  {
   "cell_type": "code",
   "execution_count": null,
   "metadata": {},
   "outputs": [],
   "source": [
    "def run_romanisim(catalog, ra=80.0, dec=30.0, obs_date = '2026-10-31T00:00:00', sca=1, expnum=1, optical_element='F106', \n",
    "                  ma_table_number=3, level=2, filename=f'r0003201001001001004', seed=5346):\n",
    "\n",
    "    cal_level = 'cal' if level == 2 else 'uncal'\n",
    "    filename = f'{filename}_{expnum:04d}_wfi{sca:02d}_{optical_element.lower()}_{cal_level}.asdf'\n",
    "\n",
    "    # Set other arguments for use in Roman I-Sim. The code expects a specific format for these, so this is a little complicated looking.\n",
    "    parser = argparse.ArgumentParser()\n",
    "    parser.set_defaults(usecrds=True, stpsf=True, level=level, filename=filename, drop_extra_dq=True)\n",
    "    args = parser.parse_args([])\n",
    "\n",
    "    # Set reference files to None for CRDS\n",
    "    for k in parameters.reference_data:\n",
    "        parameters.reference_data[k] = None\n",
    "\n",
    "    # Set Galsim RNG object\n",
    "    rng = galsim.UniformDeviate(seed)\n",
    "\n",
    "    # Set default persistance information\n",
    "    persist = persistence.Persistence()\n",
    "\n",
    "    # Set metadata\n",
    "    metadata = ris.set_metadata(date=obs_date, bandpass=optical_element, sca=sca, ma_table_number=ma_table_number)\n",
    "\n",
    "    # Update the WCS info\n",
    "    wcs.fill_in_parameters(metadata, SkyCoord(ra, dec, unit='deg', frame='icrs'), boresight=False, pa_aper=0.0)\n",
    "\n",
    "    # Run the simulation\n",
    "    sim_result = ris.simulate_image_file(args, metadata, catalog, rng, persist)\n",
    "\n",
    "    # Clean up the memory\n",
    "    del sim_result"
   ]
  },
  {
   "cell_type": "markdown",
   "metadata": {},
   "source": [
    "Now we initialize the Dask `Client()` and pass our simulation jobs to it. Dask will take care of scheduling the jobs and allocating resources. That said, we do have to be careful to not overload the Client. Set the number of WFI detectors to be simulated in the for loop appropriately to `n_detectors = 3` for a large RRN server.\n",
    "\n",
    "The variable `offset` adds an offset to the numbering of the WFI detector names. If you want to simulate, e.g., detectors WFI01, WFI02, and WFI03, then set `n_detectors = 3` and `offset = 0`. If instead you want to simulate, e.g., detectors WFI04, WFI05, and WFI06, then set `n_detectors = 3` and `offset = 3`. The `expnum` variable lets you change the exposure number in the file name (this is useful if you are simulated a series of dithered observations).\n",
    "\n",
    "**WARNING:** Please be cautious when parallelizing tasks such as Roman I-Sim as it can easily consume all of your RRN resources if handled incorrectly!\n",
    "\n",
    "We have commented out the lines below. If you want to run the parallelized simulation, uncomment all of the lines in the following code cell.\n",
    "\n",
    "**Note:** This cell may take several minutes to run. In addition, logging messages from `romanisim` and its dependencies will appear cluttered as they are executing simultaneously."
   ]
  },
  {
   "cell_type": "code",
   "execution_count": null,
   "metadata": {
    "scrolled": true
   },
   "outputs": [],
   "source": [
    "## Number of detectors to simulate. Change offset to select\n",
    "## higher detector IDs (e.g., n_detectors = 3 and offset = 3\n",
    "## will simulate detectors WFI04, WFI05, and WFI06.\n",
    "#n_detectors = 3\n",
    "#offset = 0\n",
    "#\n",
    "## Change this to increment the exposure number in the simulation output filename\n",
    "#expnum = 1\n",
    "\n",
    "## Set up Dask client\n",
    "## Give each simulation call its own worker so that no one worker exceeds\n",
    "## the allocated memory.\n",
    "#dask_client = Client(n_workers=n_detectors)\n",
    "#\n",
    "## Create simulation runs to send to the client\n",
    "#tasks = []\n",
    "#for i in range(n_detectors):\n",
    "#\n",
    "#    # Create simulations with the full_catalog defined above and for 3\n",
    "#    # WFI detectors. Otherwise, use the default parameters.\n",
    "#    tasks.append(dask_client.submit(run_romanisim, full_catalog, **{'ra': pointing.ra, 'dec': pointing.dec, 'sca': i+1+offset, 'expnum': expnum}))\n",
    "#\n",
    "## Wait for all tasks to complete\n",
    "#results = dask_client.gather(tasks)\n",
    "#\n",
    "## Don't forget to close the Dask client!\n",
    "#dask_client.close()"
   ]
  },
  {
   "cell_type": "markdown",
   "metadata": {},
   "source": [
    "### Simulating Dithered Observations in Parallel\n",
    "\n",
    "Now that we have demonstrated how to determine the WFI pointing positions necessary for any dither pattern, and how to parallelize Roman I-Sim simulations to simulate multiple detectors simultaneously, let's combine that information to simulate a series of dithered observations. As in the [Advanced Use Cases - Parallelized Simulations](#Parallelized-Simulations) section, we have commented out all of the code cells below. \n",
    "\n",
    "**Note:** If you have not reviewed the [Advanced Use Cases - Parallelized Simulations](#Parallelized-Simulations) section, please review the information in that part of the tutorial before proceeding. At a minimum, you will need to install Dask and define the Roman I-Sim wrapper function before running the cells below.\n",
    "\n",
    "We will use the four-point box gap-filling dither pattern described in [Advanced Use Cases - Dithered Observations](#Dithered-Observations). We will also re-use the Roman I-Sim wrapper function that we defined for Dask. As you can see in the cell below, we are simulating three WFI detectors at a time at each dither position before proceeding to the next dither position. At each dither position, we incrementally update the exposure number. The resulting file names are: `r0003201001001001004_XXXX_wfiNN_f106_uncal.asdf`, where XXXX is the zero-padded exposure number (e.g., 0001) and NN is the WFI detector ID (e.g., WFI01). Note that these are L1 files rather than the L2 file that was simulated previously."
   ]
  },
  {
   "cell_type": "code",
   "execution_count": null,
   "metadata": {
    "scrolled": true
   },
   "outputs": [],
   "source": [
    "## Initial pointing\n",
    "#pointing = PointWFI(ra=270.94, dec=-0.2, position_angle=0.0)\n",
    "#\n",
    "## Number of detectors to simulate. Change offset to select\n",
    "## higher detector IDs (e.g., n_detectors = 3 and offset = 3\n",
    "## will simulate detectors WFI04, WFI05, and WFI06.\n",
    "#n_detectors = 3\n",
    "#offset = 0\n",
    "#\n",
    "## Change this to increment the exposure number in the simulation output filename\n",
    "#expnum = 1\n",
    "#\n",
    "## Set up Dask client\n",
    "## Give each simulation call its own worker so that no one worker exceeds\n",
    "## the allocated memory.\n",
    "#dask_client = Client(n_workers=n_detectors)\n",
    "#\n",
    "## Create simulation runs to send to the client\n",
    "#tasks = []\n",
    "#for i in range(n_detectors):\n",
    "#\n",
    "#    # Create simulations with the full_catalog defined above and for 3\n",
    "#    # WFI detectors. Otherwise, use the default parameters.\n",
    "#    tasks.append(dask_client.submit(run_romanisim, full_catalog, **{'ra': pointing.ra, 'dec': pointing.dec, 'sca': i+1+offset, 'expnum': expnum, 'level': 1}))\n",
    "#\n",
    "## Wait for all tasks to complete\n",
    "#results = dask_client.gather(tasks)\n",
    "#\n",
    "## Exposure 2\n",
    "## Dither -205.20 +0.88\n",
    "#pointing.dither(x_offset=-205.20, y_offset=0.88)\n",
    "#expnum=2\n",
    "#tasks = []\n",
    "#for i in range(n_detectors):\n",
    "#    tasks.append(dask_client.submit(run_romanisim, full_catalog, **{'ra': pointing.ra, 'dec': pointing.dec, 'sca': i+1+offset, 'expnum': expnum, 'level': 1}))\n",
    "#\n",
    "## Wait for all tasks to complete\n",
    "#results = dask_client.gather(tasks)\n",
    "#\n",
    "## Exposure 3\n",
    "## Dither -204.32 +206.08\n",
    "#pointing.dither(x_offset=-204.32, y_offset=206.08)\n",
    "#expnum=3\n",
    "#tasks = []\n",
    "#for i in range(n_detectors):\n",
    "#    tasks.append(dask_client.submit(run_romanisim, full_catalog, **{'ra': pointing.ra, 'dec': pointing.dec, 'sca': i+1+offset, 'expnum': expnum, 'level': 1}))\n",
    "#\n",
    "## Wait for all tasks to complete\n",
    "#results = dask_client.gather(tasks)\n",
    "#\n",
    "## Exposure 4\n",
    "## Dither +0.88 +205.20\n",
    "#pointing.dither(x_offset=0.88, y_offset=205.20)\n",
    "#expnum=4\n",
    "#tasks = []\n",
    "#for i in range(n_detectors):\n",
    "#    tasks.append(dask_client.submit(run_romanisim, full_catalog, **{'ra': pointing.ra, 'dec': pointing.dec, 'sca': i+1+offset, 'expnum': expnum, 'level': 1}))#    tasks.append(dask_client.submit(run_romanisim, full_catalog, **{'ra': pointing.ra, 'dec': pointing.dec, 'sca': i+1+offset, 'expnum': expnum, 'level': 1}))\n",
    "#    \n",
    "## Wait for all tasks to complete\n",
    "#results = dask_client.gather(tasks)\n",
    "#\n",
    "## Don't forget to close the Dask client!\n",
    "#dask_client.close()"
   ]
  },
  {
   "cell_type": "markdown",
   "metadata": {},
   "source": [
    "### Injecting Sources into L2 Images\n",
    "\n",
    "Another advanced use case is injecting sources into L2 images. This may be useful, for example, to assess completeness and to test systematics in our data (simulated or otherwise). We can also use this for creating time-variable sources in a series of simulations. Right now, Roman I-Sim only supports injection at L2, though work is underway to add this capability for L1 images in the future. \n",
    "\n",
    "To inject sources into a L2 image, we need to create a Roman I-Sim input catalog. However, the catalog will be a shortened version containing just the sources that we want to inject. Also recall that the catalog brightnesses are specified in units of maggies, which are defined such that one maggie is equal to the reference AB magnitude flux (3,631 Jy), i.e., maggies $\\equiv 10^{-0.4m_{\\mathrm{AB}}}$.\n",
    "\n",
    "First, let's read in a L2 file and display it. We will use one of the images we just simulated, but after it has been run through the Exposure Pipeline to generate the L2 file. You can either visit the [Exposure Pipeline](../exposure_pipeline/exposure_pipeline.ipynb) tutorial for more information to do this yourself, or use one of the files in the Nexus S3 bucket."
   ]
  },
  {
   "cell_type": "code",
   "execution_count": null,
   "metadata": {},
   "outputs": [],
   "source": [
    "#Stream the files from the S3 bucket if they are not in local storage\n",
    "\n",
    "if os.path.exists('r0003201001001001004_0001_wfi01_f106_cal.asdf'):\n",
    "    dm = rdm.open('r0003201001001001004_0001_wfi01_f106_cal.asdf')\n",
    "else:\n",
    "    fs = s3fs.S3FileSystem(anon=True)\n",
    "    asdf_dir_uri = 's3://stpubdata/roman/nexus/soc_simulations/tutorial_data/'\n",
    "    asdf_file_uri = asdf_dir_uri + 'r0003201001001001004_0001_wfi01_f106_cal.asdf'\n",
    "    with fs.open(asdf_file_uri, 'rb') as f:\n",
    "        af = asdf.open(f)\n",
    "        dm = rdm.open(af).copy()"
   ]
  },
  {
   "cell_type": "markdown",
   "metadata": {},
   "source": [
    "Now let's take a look at our image around some area we would like to inject a new source. For this, let's choose pixel (X, Y) = (1000, 1000) to be the position of our new source, so we will display the area around that pixel. For more information on how to visualize your data, see the [Data Visualization](../data_visualization/data_visualization.ipynb) tutorial."
   ]
  },
  {
   "cell_type": "code",
   "execution_count": null,
   "metadata": {},
   "outputs": [],
   "source": [
    "norm = simple_norm(dm.data, 'asinh', percent=99.7)\n",
    "plt.imshow(dm.data[900:1100, 900:1100], norm=norm, cmap='afmhot', origin='lower',\n",
    "           extent=[900, 1100, 900, 1100]);"
   ]
  },
  {
   "cell_type": "markdown",
   "metadata": {},
   "source": [
    "Next, let's create our catalog. Let's choose a brightness of 2 x 10<sup>-8</sup> maggies (~19.25 AB magnitudes) for our source. Note that if you are injecting galaxies, then you will also need to supply the other parameters Roman I-Sim needs for galaxy sources (e.g., Sérsic index and half-light radius).\n",
    "\n",
    "In the next cell, we make a function for creating and saving our injection catalog:"
   ]
  },
  {
   "cell_type": "code",
   "execution_count": null,
   "metadata": {},
   "outputs": [],
   "source": [
    "# Define a function to create the catalog for sources\n",
    "# that we want to inject into our L2 image.\n",
    "\n",
    "def make_cat(ra, dec, fluxes, filename='injection_cat.ecsv'):\n",
    "\n",
    "    filtlist = 'F062 F087 F106 F129 F146 F158 F184 F213'.split()\n",
    "    tab = Table([ra, dec], names = ('ra', 'dec'))\n",
    "    src_types = np.array(['PSF' for i in ra])\n",
    "    tab['type'] = src_types\n",
    "    for k, v in fluxes.items():\n",
    "        if k.upper() in filtlist:\n",
    "            tab[k.upper()] = v\n",
    "        else:\n",
    "            raise ValueError(f'Incorrect filter name {k}!')\n",
    "\n",
    "    tab.write(filename, overwrite=True)"
   ]
  },
  {
   "cell_type": "markdown",
   "metadata": {},
   "source": [
    "And now run the function with our inputs:"
   ]
  },
  {
   "cell_type": "code",
   "execution_count": null,
   "metadata": {},
   "outputs": [],
   "source": [
    "# Get the RA and Dec from the WCS\n",
    "ra, dec = dm.meta.wcs(1000, 1000)\n",
    "\n",
    "# Make the injection catalog\n",
    "make_cat([ra], [dec], {'F106': [2e-8]})"
   ]
  },
  {
   "cell_type": "markdown",
   "metadata": {},
   "source": [
    "Let's take a look at the catalog we just created and make sure it looks correct:"
   ]
  },
  {
   "cell_type": "code",
   "execution_count": null,
   "metadata": {},
   "outputs": [],
   "source": [
    "tab = Table.read('injection_cat.ecsv')\n",
    "tab"
   ]
  },
  {
   "cell_type": "markdown",
   "metadata": {},
   "source": [
    "Previously in this tutorial, we wrote a function to run Roman I-Sim. In that function, we overrode all of the default parameters and set them to `None` to force Roman I-Sim to use calibration reference files from CRDS rather than the Roman I-Sim default scalar values. These default scalar values are intended to allow Roman I-Sim to in an offline mode when you may not have access to a CRDS cache or the CRDS server. However, the current version of the `inject_sources_into_l2()` function does not use CRDS reference files and must use the Roman I-Sim defaults. Because the injection needs the default parameter values, we need to restore them here. We accomplish that using Python's `importlib.reload()` function to reload the installed version of `romanisim.parameters` into memory:"
   ]
  },
  {
   "cell_type": "code",
   "execution_count": null,
   "metadata": {},
   "outputs": [],
   "source": [
    "importlib.reload(parameters)"
   ]
  },
  {
   "cell_type": "markdown",
   "metadata": {},
   "source": [
    "Now we run the source injection function `inject_sources_into_l2()` with our image (datamodel), the injection catalog (the variable `tab`), and we set `stpsf=True` to use STPSF-generated point spread functions (PSFs) for the simulation. Notice that we make a copy of the image using the `.copy()` method so that we inject the source into a copy of the image rather than the original. This lets us compare the original and the updated version after we inject the source.\n",
    "\n",
    "As a reminder, this will use the default Roman I-Sim parameter values for the injected source; however, perhaps the most critical parameter (the gain) can be modified in the function call. The gain is important in the simulation as the WFI zeropoints in the L2 metadata are intended to transform from DN/s to MJy/sr, and therefore contain a factor of the gain. If needed, the gain value used in the zeropoint can be found in the photom reference file. In the cell below, we will set the gain to the default value (2 e<sup>–</sup>/DN) to demonstrate the proper way to modify the value."
   ]
  },
  {
   "cell_type": "code",
   "execution_count": null,
   "metadata": {},
   "outputs": [],
   "source": [
    "result = inject_sources_into_l2(dm.copy(), tab, stpsf=True, gain=2 * (u.electron / u.DN))"
   ]
  },
  {
   "cell_type": "markdown",
   "metadata": {},
   "source": [
    "Finally, let's re-plot the same region as before to show the injected source:"
   ]
  },
  {
   "cell_type": "code",
   "execution_count": null,
   "metadata": {},
   "outputs": [],
   "source": [
    "fig, axs = plt.subplots(nrows=1, ncols=2)\n",
    "\n",
    "axs[0].imshow(dm.data[900:1100, 900:1100], norm=norm, \n",
    "              cmap='afmhot', origin='lower',\n",
    "              extent=[900, 1100, 900, 1100])\n",
    "\n",
    "axs[0].set_title('Original')\n",
    "\n",
    "axs[1].imshow(result.data[900:1100, 900:1100], norm=norm, \n",
    "              cmap='afmhot', origin='lower',\n",
    "              extent=[900, 1100, 900, 1100])\n",
    "\n",
    "axs[1].set_title('Injected')\n",
    "\n",
    "plt.tight_layout();"
   ]
  },
  {
   "cell_type": "markdown",
   "metadata": {},
   "source": [
    "## Additional Resources\n",
    "- [Roman I-Sim Documentation](https://romanisim.readthedocs.io/en/latest/index.html)\n",
    "- [RomanCal Documentation](https://roman-pipeline.readthedocs.io/en/latest/index.html)\n",
    "- [Roman Documentation System (RDox)](https://roman-docs.stsci.edu)"
   ]
  },
  {
   "cell_type": "markdown",
   "metadata": {
    "slideshow": {
     "slide_type": "slide"
    }
   },
   "source": [
    "## About this Notebook\n",
    "**Author:** Sanjib Sharma, Tyler Desjardins  \n",
    "**Updated On:** 2025-05-28"
   ]
  },
  {
   "cell_type": "markdown",
   "metadata": {},
   "source": [
    "***"
   ]
  },
  {
   "cell_type": "markdown",
   "metadata": {},
   "source": [
    "[Top of Page](#top)\n",
    "<img style=\"float: right;\" src=\"https://raw.githubusercontent.com/spacetelescope/notebooks/master/assets/stsci_pri_combo_mark_horizonal_white_bkgd.png\" alt=\"Space Telescope Logo\" width=\"200px\"/> "
   ]
  }
 ],
 "metadata": {
  "kernelspec": {
   "display_name": "Roman Calibration",
   "language": "python",
   "name": "roman-cal"
  },
  "language_info": {
   "codemirror_mode": {
    "name": "ipython",
    "version": 3
   },
   "file_extension": ".py",
   "mimetype": "text/x-python",
   "name": "python",
   "nbconvert_exporter": "python",
   "pygments_lexer": "ipython3",
   "version": "3.12.9"
  }
 },
 "nbformat": 4,
 "nbformat_minor": 4
}
