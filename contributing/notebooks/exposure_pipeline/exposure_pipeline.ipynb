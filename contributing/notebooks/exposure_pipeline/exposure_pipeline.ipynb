{
 "cells": [
  {
   "cell_type": "markdown",
   "metadata": {
    "slideshow": {
     "slide_type": "slide"
    }
   },
   "source": [
    "# Calibrating WFI Exposures with RomanCal "
   ]
  },
  {
   "cell_type": "markdown",
   "metadata": {
    "slideshow": {
     "slide_type": "skip"
    }
   },
   "source": [
    "***"
   ]
  },
  {
   "cell_type": "markdown",
   "metadata": {
    "slideshow": {
     "slide_type": "slide"
    }
   },
   "source": [
    "## Kernel Information and Read-Only Status\n",
    "\n",
    "To run this notebook, please select the \"Roman Calibration\" kernel at the top right of your window.\n",
    "\n",
    "This notebook is read-only. You can run cells and make edits, but you must save changes to a different location. We recommend saving the notebook within your home directory, or to a new folder within your home (e.g. <span style=\"font-variant:small-caps;\">file > save notebook as > my-nbs/nb.ipynb</span>). Note that a directory must exist before you attempt to add a notebook to it.\n",
    "\n",
    "## Imports\n",
    " Libraries used\n",
    "- *romancal* for running the processing pipeline\n",
    "- *roman_datamodels* for opening Roman WFI ASDF files\n",
    "- *asdf* for opening Roman WFI ASDF files\n",
    "- *os* for checking if files exist\n",
    "- *copy* for making copies of Python objects\n",
    "- *astropy.coordinates* for working with celestial coordinates\n",
    "- *s3fs* for streaming files from an S3 bucket"
   ]
  },
  {
   "cell_type": "code",
   "execution_count": null,
   "metadata": {
    "slideshow": {
     "slide_type": "fragment"
    }
   },
   "outputs": [],
   "source": [
    "import roman_datamodels as rdm\n",
    "import asdf\n",
    "from astropy.coordinates import SkyCoord\n",
    "import copy\n",
    "import romancal\n",
    "from romancal.pipeline import ExposurePipeline\n",
    "import os\n",
    "import s3fs"
   ]
  },
  {
   "cell_type": "markdown",
   "metadata": {
    "slideshow": {
     "slide_type": "slide"
    }
   },
   "source": [
    "## Introduction\n",
    "The purpose of this notebook is to calibrate Level 1 (L1; uncalibrated ramp cube) data with the Roman WFI science calibration pipeline RomanCal (Python package name `romancal`) to produce Level 2 (L2; calibrated rate image) exposure level data. To learn more, please visit the [RDox pages on the Exposure Level Pipeline](https://roman-docs.stsci.edu/data-handbook-home/roman-stsci-data-pipelines/exposure-level-pipeline).\n",
    "\n",
    "Details about the Roman data levels can be found in the RDox article [Data Levels and Products](https://roman-docs.stsci.edu/data-handbook-home/wfi-data-format/data-levels-and-products). A L1 file contains a single uncalibrated ramp in units of Data Numbers (DN).  L1 files are three-dimensional data cubes, one dimension for time and two dimensions for image coordinates, that are shaped as  arrays with (N resultants, 4096 image rows, 4096 image columns). A resultant contains either one read or the arithmetic mean of multiple reads of the WFI detectors. L2 WFI files are calibrated rate images in instrumental units of DN / second.  They are two-dimensional arrays shaped as (4088 image rows, 4088 image columns). Note the smaller image size of L2 files, which is due to the removal of the 4-pixel border of reference pixels around the image during pipeline processing."
   ]
  },
  {
   "cell_type": "markdown",
   "metadata": {},
   "source": [
    "***"
   ]
  },
  {
   "cell_type": "markdown",
   "metadata": {
    "slideshow": {
     "slide_type": "slide"
    }
   },
   "source": [
    "## Tutorial Data\n",
    "In this tutorial, we use L1 WFI data files simulated with `romanisim`. We will use as an example the output from running the [Roman I-Sim](../romanisim/romanisim.ipynb) tutorial notebook. If you did not run the simulation tutorial, then the files are also stored in the Nexus S3 bucket. For more information on how to access these data, see the [Data Discovery and Access](../data_discovery_and_access/data_discovery_and_access.ipynb) tutorial."
   ]
  },
  {
   "cell_type": "markdown",
   "metadata": {},
   "source": [
    "## Run romancal on L1 Data\n",
    "To run `romancal` on the L1 data, there are two options:\n",
    "1. You can use the exposure-level pipeline to run all steps (basic), or\n",
    "2. You can run one or more individual steps (advanced).\n",
    "\n",
    "### Basic Example: Full Pipeline\n",
    "\n",
    "The input file for our example is a WFI L1 ASDF file. We first check to see if we already have the file saved on disk (if the Roman I-Sim tutorial was run), and if not then we stream the L1 file into memory (as a datamodel) from the Nexus S3 bucket:"
   ]
  },
  {
   "cell_type": "code",
   "execution_count": null,
   "metadata": {},
   "outputs": [],
   "source": [
    "l1_file = 'r0003201001001001004_0001_wfi01_f106_uncal.asdf'\n",
    "\n",
    "if os.path.exists(l1_file):\n",
    "    dm_l1 = rdm.open(l1_file)\n",
    "else:\n",
    "    asdf_dir_uri = 's3://roman-sci-test-data-prod-summer-beta-test/'\n",
    "    fs = s3fs.S3FileSystem()\n",
    "\n",
    "    asdf_file_uri = asdf_dir_uri + f'AAS_WORKSHOP/{l1_file}'\n",
    "    with fs.open(asdf_file_uri, 'rb') as f:\n",
    "        af = asdf.open(f)\n",
    "        dm_l1 = rdm.open(af).copy()"
   ]
  },
  {
   "cell_type": "markdown",
   "metadata": {},
   "source": [
    "First, let's take a look at what kind of data we have using the `type()` function:"
   ]
  },
  {
   "cell_type": "code",
   "execution_count": null,
   "metadata": {},
   "outputs": [],
   "source": [
    "type(dm_l1)"
   ]
  },
  {
   "cell_type": "markdown",
   "metadata": {},
   "source": [
    "Reading the ASDF file with `roman_datamodels` returns a `ScienceRawModel` datamodel, which is the datamodel for L1 files. We can also use the `.info()` method on the datamodel to look at the file contents:"
   ]
  },
  {
   "cell_type": "code",
   "execution_count": null,
   "metadata": {},
   "outputs": [],
   "source": [
    "dm_l1.info()"
   ]
  },
  {
   "cell_type": "markdown",
   "metadata": {},
   "source": [
    "We can see that this L1 file was made with Roman I-Sim as it contains the \"romanisim\" block inside the file.\n",
    "\n",
    "Next, let's look at a basic example of running the complete pipeline.\n",
    "\n",
    "The `save_results` optional parameter will save the resulting L2 datamodel as a file on your Nexus storage. You can enable this by setting the value to `True`. In our example, we will keep the output calibrated L2 datamodel (as the variable `result`) in memory without saving it locally. We have explicitly set `save_results=False`, however this is also the default behavior."
   ]
  },
  {
   "cell_type": "code",
   "execution_count": null,
   "metadata": {
    "scrolled": true
   },
   "outputs": [],
   "source": [
    "result = ExposurePipeline.call(dm_l1, save_results=False)"
   ]
  },
  {
   "cell_type": "code",
   "execution_count": null,
   "metadata": {},
   "outputs": [],
   "source": [
    "type(result)"
   ]
  },
  {
   "cell_type": "markdown",
   "metadata": {},
   "source": [
    "As we can see, the output from the Exposure Pipeline is an `ImageModel` object, which is the datamodel for L2 files.\n",
    "\n",
    "If you look in your file browser in the directory where you are running this tutorial, you will also see two other files were created with similar names to our L1 file. These have names like `*_cat.asdf` and `*_segm.asdf`. These are Level 4 (L4; high-level extracted information) files corresponding to a single-band source catalog and a segmentation map, respectively.\n",
    "\n",
    "**IMPORTANT NOTE:** At this time, L4 products are still being developed and validated, and we expect significant changes in their format and the algorithms used to generate them. These L4 products are automatically created by the source catalog step (a necessary input to the Gaia alignment). We do not recommend the use of these products until they are fully validated.\n",
    "\n",
    "We can also pass optional parameters to individual pipeline steps using a dictionary called `steps`. Here we show how to skip the source catalog step and the step that aligns the image with the Gaia astrometric catalog (this is the TweakReg step, which is named after the software used to update the image World Coordinate System (WCS)). Other optional parameters may be similarly set for individual steps, and more information can be found in the [romancal documentation](https://roman-pipeline.readthedocs.io/en/latest/index.html)."
   ]
  },
  {
   "cell_type": "code",
   "execution_count": null,
   "metadata": {
    "scrolled": true
   },
   "outputs": [],
   "source": [
    "result = ExposurePipeline.call(dm_l1, save_results=False, steps={'source_catalog': {'skip': True}, 'tweakreg': {'skip': True}})"
   ]
  },
  {
   "cell_type": "markdown",
   "metadata": {},
   "source": [
    "If you examine the end of the pipeline log messages, you will see that the source catalog and tweakreg steps were skipped as expected. Since we skipped the source catalog step, the L4 source catalog and segmentation maps were not regenerated. If we want to check on the status of a step, we can also check the metadata of the output datamodel:"
   ]
  },
  {
   "cell_type": "code",
   "execution_count": null,
   "metadata": {},
   "outputs": [],
   "source": [
    "result.meta.cal_step.source_catalog"
   ]
  },
  {
   "cell_type": "markdown",
   "metadata": {},
   "source": [
    "For reference, the pipeline steps in order are:\n",
    "\n",
    "- `romancal.dq_init.dq_init_step`: Bad pixel masking and data quality initialization\n",
    "- `romancal.saturation.SaturationStep`: Saturation flagging up-the-ramp\n",
    "- `romancal.refpix.RefPixStep`: 1/f noise correction\n",
    "- `romancal.linearity.LinearityStep`: Classic non-linearity correction\n",
    "- `romancal.dark_current.DarkCurrentStep`: Dark current subtraction\n",
    "- `romancal.ramp_fitting.ramp_fit_step`: Jump detection and fitting up-the-ramp\n",
    "- `romancal.assign_wcs.AssignWcsStep`: Initialize the WCS with the pointing information\n",
    "- `romancal.flatfield.FlatFieldStep`: Apply the flat field to the data\n",
    "- `romancal.photom.PhotomStep`: Populate photometric calibration information\n",
    "- `romancal.source_detection.SourceCatalog`: Run source detection on the image, perform point spread function (PSF) fitting photometry, and generate a source catalog\n",
    "- `romancal.tweakreg.TweakRegStep`: Match sources to Gaia and update WCS information\n",
    "\n",
    "The [Exposure Pipeline](https://roman-docs.stsci.edu/data-handbook-home/roman-stsci-data-pipelines/exposure-level-pipeline) article on RDox provides more information on the Exposure Pipeline steps.\n",
    "\n",
    "Note that the ramp fitting step transforms the datamodel in memory. Therefore, steps following ramp fitting cannot be applied to a data model that has not undergone ramp fitting, and similarly, steps preceeding ramp fitting should not be applied to a  data model after this step.\n",
    "\n",
    "Once we are satisfied with our datamodel, if we want to we can save it to disk with the `.save()` method:"
   ]
  },
  {
   "cell_type": "code",
   "execution_count": null,
   "metadata": {},
   "outputs": [],
   "source": [
    "result.save('my_roman_l2_file.asdf')"
   ]
  },
  {
   "cell_type": "markdown",
   "metadata": {},
   "source": [
    "If you look at the file browser in the directory you ran this tutorial, you should see a new file called \"my_roman_l2_file.asdf.\" Note: you may need to wait a moment or manually refresh the file browser before the file appears.\n",
    "\n",
    "### Advanced Example: Running Individual Pipeline Steps\n",
    "\n",
    "Now, for a more advanced use case, let's update the WCS based on the pointing information. An example use case may be that we simulated a L1 file, calibrated it with the Exposure Pipeline, and now we want to try shifting the pointing information and creating a new WCS to test the Gaia alignment. After editing any of the `meta.wcsinfo` values that we want to change, we can generate a new WCS by running the individual AssignWcsStep on our L2 ASDF file."
   ]
  },
  {
   "cell_type": "code",
   "execution_count": null,
   "metadata": {},
   "outputs": [],
   "source": [
    "l2_file = 'r0003201001001001004_0001_wfi01_f106_cal.asdf'\n",
    "\n",
    "if os.path.exists(l2_file):\n",
    "    dm = rdm.open(f)\n",
    "else:\n",
    "    asdf_dir_uri = 's3://roman-sci-test-data-prod-summer-beta-test/'\n",
    "    fs = s3fs.S3FileSystem()\n",
    "\n",
    "    asdf_file_uri = asdf_dir_uri + f'AAS_WORKSHOP/{l2_file}'\n",
    "    with fs.open(asdf_file_uri, 'rb') as f:\n",
    "        af = asdf.open(f)\n",
    "        dm = rdm.open(af)\n",
    "        original_wcs = copy.deepcopy(dm.meta.wcs)"
   ]
  },
  {
   "cell_type": "markdown",
   "metadata": {},
   "source": [
    "Let's take a quick look at the file we just opened:"
   ]
  },
  {
   "cell_type": "code",
   "execution_count": null,
   "metadata": {},
   "outputs": [],
   "source": [
    "dm.info()"
   ]
  },
  {
   "cell_type": "markdown",
   "metadata": {},
   "source": [
    "The WCS that is initially populate in L2 files before alignment with Gaia is based on the pointing information. This is called the \"course\" WCS. The `meta.pointing` section of the metadata describes the spacecraft pointing, while the detector-dependent information used to construct the course WCS is contained in the `meta.wcsinfo` section. Realistically, the values in `meta.pointing` and `meta.wcsinfo` are linked, but in practice the course WCS only uses `meta.wcsinfo`. Let's examine our `meta.wcsinfo` values:"
   ]
  },
  {
   "cell_type": "code",
   "execution_count": null,
   "metadata": {},
   "outputs": [],
   "source": [
    "dm.meta.wcsinfo"
   ]
  },
  {
   "cell_type": "markdown",
   "metadata": {},
   "source": [
    "In particular, we see values for `ra_ref`, `dec_ref`, and `roll_ref`. Let's take a look at the descriptions of these fields:"
   ]
  },
  {
   "cell_type": "code",
   "execution_count": null,
   "metadata": {},
   "outputs": [],
   "source": [
    "print(f\"ra_ref = {dm.schema_info(path='roman.meta.wcsinfo.ra_ref')['description']}\")\n",
    "print(f\"dec_ref = {dm.schema_info(path='roman.meta.wcsinfo.dec_ref')['description']}\")\n",
    "print(f\"roll_ref = {dm.schema_info(path='roman.meta.wcsinfo.roll_ref')['description']}\")"
   ]
  },
  {
   "cell_type": "markdown",
   "metadata": {},
   "source": [
    "The \"reference pixel position\" in the descriptions is located at the center of each WFI detector (each detector has its own WCS). We can edit these values to trick the pipeline into creating a WCS slightly different from the one before. Let's make a copy of the datamodel (for comparison later)  and add a simple shift of 1 arcseccond in right ascension:"
   ]
  },
  {
   "cell_type": "code",
   "execution_count": null,
   "metadata": {},
   "outputs": [],
   "source": [
    "original_ra_ref = copy.copy(dm.meta.wcsinfo.ra_ref)\n",
    "dm.meta.wcsinfo.ra_ref += (1 / 3600)\n",
    "\n",
    "print(f'Original ra_ref = {original_ra_ref},\\nUpdated ra_ref = {dm.meta.wcsinfo.ra_ref}')"
   ]
  },
  {
   "cell_type": "markdown",
   "metadata": {},
   "source": [
    "Next, let's run AssignWcsStep on the datamodel. Doing so will return an updated datamodel in memory:"
   ]
  },
  {
   "cell_type": "code",
   "execution_count": null,
   "metadata": {},
   "outputs": [],
   "source": [
    "result = romancal.assign_wcs.AssignWcsStep.call(dm)"
   ]
  },
  {
   "cell_type": "markdown",
   "metadata": {},
   "source": [
    "Finally, we can take a pixel position and translate it to right ascension and declination using the original and newly updated WCS objects. Let's use the center of the detector in the L2 image, which in 0-indexed pixels is (x, y) = (2043.5, 2043.5). Separations on the sky can be easily determined using `astropy.coordinates.SkyCoord` objects as follows:"
   ]
  },
  {
   "cell_type": "code",
   "execution_count": null,
   "metadata": {},
   "outputs": [],
   "source": [
    "# Get SkyCoord object for new position at center of detector\n",
    "ra, dec = result.meta.wcs(2043.5, 2043.5)\n",
    "result_coord = SkyCoord(ra=ra, dec=dec, unit='deg')\n",
    "result_coord\n",
    "\n",
    "# Get SkyCoord object for original position at center of detector\n",
    "ra0, dec0 = original_wcs(2043.5, 2043.5)\n",
    "original_coord = SkyCoord(ra=ra0, dec=dec0, unit='deg')\n",
    "original_coord\n",
    "\n",
    "# Compute the separation between the updated and original positions\n",
    "result_coord.separation(original_coord)"
   ]
  },
  {
   "cell_type": "markdown",
   "metadata": {},
   "source": [
    "As we can see, the newly updated WCS is shifted approximately 1 arcsecond from the WCS in the L2 file that we opened. This is not exactly 1 arcsecond because the WFI pixels were not aligned with perfectly vertical and horizontal lines of right ascension and declination, respectively.\n",
    "\n",
    "Similar to our pipeline example above, we can also pass optional arguments to individual steps. For example, if we would like to use our own version of the distortion reference file rather than the one from CRDS, then we can use the file with the override_distortion optional parameter:"
   ]
  },
  {
   "cell_type": "code",
   "execution_count": null,
   "metadata": {},
   "outputs": [],
   "source": [
    "# wcs_step = romancal.assign_wcs.AssignWcsStep.call(dm, override_distortion='my_distortion_file.asdf')"
   ]
  },
  {
   "cell_type": "markdown",
   "metadata": {},
   "source": [
    "Similar override parameters exist for all reference file types. More information on WFI reference file types may be found in the RDox article [CRDS for Reference Files](https://roman-docs.stsci.edu/data-handbook-home/accessing-wfi-data/crds-for-reference-files).\n",
    "\n",
    "As before, we directed the updated datamodel to a variable in active memory. We can also pass this datamodel along to the next pipeline step and chain steps together, and we can also save the datamodel to disk with the `.save()` method. For more information on working with datamodels, see the [Working with ASDF](../working_with_asdf/working_with_asdf.ipynb) tutorial."
   ]
  },
  {
   "cell_type": "markdown",
   "metadata": {},
   "source": [
    "## Additional Resources\n",
    "- [romanisim](https://romanisim.readthedocs.io/en/latest/index.html)\n",
    "- [romancal](https://roman-pipeline.readthedocs.io/en/latest/index.html)\n",
    "- [Roman Documentation](https://roman-docs.stsci.edu)"
   ]
  },
  {
   "cell_type": "markdown",
   "metadata": {
    "slideshow": {
     "slide_type": "slide"
    }
   },
   "source": [
    "## About this Notebook\n",
    "**Author:** Tyler Desjardins, Sanjib Sharma\\\n",
    "**Updated On:** 2025-05-26"
   ]
  },
  {
   "cell_type": "markdown",
   "metadata": {},
   "source": [
    "***"
   ]
  },
  {
   "cell_type": "markdown",
   "metadata": {},
   "source": [
    "[Top of Page](#top)\n",
    "<img style=\"float: right;\" src=\"https://raw.githubusercontent.com/spacetelescope/notebooks/master/assets/stsci_pri_combo_mark_horizonal_white_bkgd.png\" alt=\"Space Telescope Logo\" width=\"200px\"/> "
   ]
  }
 ],
 "metadata": {},
 "nbformat": 4,
 "nbformat_minor": 4
}
